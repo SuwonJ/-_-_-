{
  "nbformat": 4,
  "nbformat_minor": 0,
  "metadata": {
    "colab": {
      "provenance": [],
      "authorship_tag": "ABX9TyNHWmmaDGcu/rD/jP6Syjgl",
      "include_colab_link": true
    },
    "kernelspec": {
      "name": "python3",
      "display_name": "Python 3"
    },
    "language_info": {
      "name": "python"
    }
  },
  "cells": [
    {
      "cell_type": "markdown",
      "metadata": {
        "id": "view-in-github",
        "colab_type": "text"
      },
      "source": [
        "<a href=\"https://colab.research.google.com/github/SuwonJ/privateeducation_bigdata_analysis/blob/main/%EC%9E%A5%EC%88%98%EC%9B%90_%EB%B9%85%EB%8D%B0%EC%9D%B4%ED%84%B0%EB%B6%84%EC%84%9D(%EC%86%8C%EC%9D%B8%EC%88%98)%EC%88%98%ED%96%89%ED%8F%89%EA%B0%80.ipynb\" target=\"_parent\"><img src=\"https://colab.research.google.com/assets/colab-badge.svg\" alt=\"Open In Colab\"/></a>"
      ]
    },
    {
      "cell_type": "code",
      "execution_count": 10,
      "metadata": {
        "colab": {
          "base_uri": "https://localhost:8080/"
        },
        "id": "tabpO2y81pnC",
        "outputId": "f7b65996-0762-4808-a943-53410bfef2ad"
      },
      "outputs": [
        {
          "output_type": "stream",
          "name": "stdout",
          "text": [
            "Reading package lists... Done\n",
            "Building dependency tree... Done\n",
            "Reading state information... Done\n",
            "The following NEW packages will be installed:\n",
            "  fonts-nanum\n",
            "0 upgraded, 1 newly installed, 0 to remove and 19 not upgraded.\n",
            "Need to get 10.3 MB of archives.\n",
            "After this operation, 34.1 MB of additional disk space will be used.\n",
            "Get:1 http://archive.ubuntu.com/ubuntu jammy/universe amd64 fonts-nanum all 20200506-1 [10.3 MB]\n",
            "Fetched 10.3 MB in 1s (9,993 kB/s)\n",
            "debconf: unable to initialize frontend: Dialog\n",
            "debconf: (No usable dialog-like program is installed, so the dialog based frontend cannot be used. at /usr/share/perl5/Debconf/FrontEnd/Dialog.pm line 78, <> line 1.)\n",
            "debconf: falling back to frontend: Readline\n",
            "debconf: unable to initialize frontend: Readline\n",
            "debconf: (This frontend requires a controlling tty.)\n",
            "debconf: falling back to frontend: Teletype\n",
            "dpkg-preconfigure: unable to re-open stdin: \n",
            "Selecting previously unselected package fonts-nanum.\n",
            "(Reading database ... 120874 files and directories currently installed.)\n",
            "Preparing to unpack .../fonts-nanum_20200506-1_all.deb ...\n",
            "Unpacking fonts-nanum (20200506-1) ...\n",
            "Setting up fonts-nanum (20200506-1) ...\n",
            "Processing triggers for fontconfig (2.13.1-4.2ubuntu5) ...\n",
            "/usr/share/fonts: caching, new cache contents: 0 fonts, 1 dirs\n",
            "/usr/share/fonts/truetype: caching, new cache contents: 0 fonts, 3 dirs\n",
            "/usr/share/fonts/truetype/humor-sans: caching, new cache contents: 1 fonts, 0 dirs\n",
            "/usr/share/fonts/truetype/liberation: caching, new cache contents: 16 fonts, 0 dirs\n",
            "/usr/share/fonts/truetype/nanum: caching, new cache contents: 12 fonts, 0 dirs\n",
            "/usr/local/share/fonts: caching, new cache contents: 0 fonts, 0 dirs\n",
            "/root/.local/share/fonts: skipping, no such directory\n",
            "/root/.fonts: skipping, no such directory\n",
            "/usr/share/fonts/truetype: skipping, looped directory detected\n",
            "/usr/share/fonts/truetype/humor-sans: skipping, looped directory detected\n",
            "/usr/share/fonts/truetype/liberation: skipping, looped directory detected\n",
            "/usr/share/fonts/truetype/nanum: skipping, looped directory detected\n",
            "/var/cache/fontconfig: cleaning cache directory\n",
            "/root/.cache/fontconfig: not cleaning non-existent cache directory\n",
            "/root/.fontconfig: not cleaning non-existent cache directory\n",
            "fc-cache: succeeded\n"
          ]
        }
      ],
      "source": [
        "!sudo apt-get install -y fonts-nanum\n",
        "!sudo fc-cache -fv\n",
        "!rm ~/.cache/matplotlib -rf"
      ]
    },
    {
      "cell_type": "markdown",
      "source": [
        "# 파일 업로드"
      ],
      "metadata": {
        "id": "BtzUWp8Y5b5u"
      }
    },
    {
      "cell_type": "code",
      "source": [
        "from google.colab import files\n",
        "uploaded=files.upload()"
      ],
      "metadata": {
        "colab": {
          "base_uri": "https://localhost:8080/",
          "height": 184
        },
        "id": "yNCxK-Nw3YHF",
        "outputId": "c4dfe582-0e74-4c8a-f30b-ff9d675f8271"
      },
      "execution_count": 1,
      "outputs": [
        {
          "output_type": "display_data",
          "data": {
            "text/plain": [
              "<IPython.core.display.HTML object>"
            ],
            "text/html": [
              "\n",
              "     <input type=\"file\" id=\"files-91fcdc62-9c43-4c67-bfa3-26c58035db5a\" name=\"files[]\" multiple disabled\n",
              "        style=\"border:none\" />\n",
              "     <output id=\"result-91fcdc62-9c43-4c67-bfa3-26c58035db5a\">\n",
              "      Upload widget is only available when the cell has been executed in the\n",
              "      current browser session. Please rerun this cell to enable.\n",
              "      </output>\n",
              "      <script>// Copyright 2017 Google LLC\n",
              "//\n",
              "// Licensed under the Apache License, Version 2.0 (the \"License\");\n",
              "// you may not use this file except in compliance with the License.\n",
              "// You may obtain a copy of the License at\n",
              "//\n",
              "//      http://www.apache.org/licenses/LICENSE-2.0\n",
              "//\n",
              "// Unless required by applicable law or agreed to in writing, software\n",
              "// distributed under the License is distributed on an \"AS IS\" BASIS,\n",
              "// WITHOUT WARRANTIES OR CONDITIONS OF ANY KIND, either express or implied.\n",
              "// See the License for the specific language governing permissions and\n",
              "// limitations under the License.\n",
              "\n",
              "/**\n",
              " * @fileoverview Helpers for google.colab Python module.\n",
              " */\n",
              "(function(scope) {\n",
              "function span(text, styleAttributes = {}) {\n",
              "  const element = document.createElement('span');\n",
              "  element.textContent = text;\n",
              "  for (const key of Object.keys(styleAttributes)) {\n",
              "    element.style[key] = styleAttributes[key];\n",
              "  }\n",
              "  return element;\n",
              "}\n",
              "\n",
              "// Max number of bytes which will be uploaded at a time.\n",
              "const MAX_PAYLOAD_SIZE = 100 * 1024;\n",
              "\n",
              "function _uploadFiles(inputId, outputId) {\n",
              "  const steps = uploadFilesStep(inputId, outputId);\n",
              "  const outputElement = document.getElementById(outputId);\n",
              "  // Cache steps on the outputElement to make it available for the next call\n",
              "  // to uploadFilesContinue from Python.\n",
              "  outputElement.steps = steps;\n",
              "\n",
              "  return _uploadFilesContinue(outputId);\n",
              "}\n",
              "\n",
              "// This is roughly an async generator (not supported in the browser yet),\n",
              "// where there are multiple asynchronous steps and the Python side is going\n",
              "// to poll for completion of each step.\n",
              "// This uses a Promise to block the python side on completion of each step,\n",
              "// then passes the result of the previous step as the input to the next step.\n",
              "function _uploadFilesContinue(outputId) {\n",
              "  const outputElement = document.getElementById(outputId);\n",
              "  const steps = outputElement.steps;\n",
              "\n",
              "  const next = steps.next(outputElement.lastPromiseValue);\n",
              "  return Promise.resolve(next.value.promise).then((value) => {\n",
              "    // Cache the last promise value to make it available to the next\n",
              "    // step of the generator.\n",
              "    outputElement.lastPromiseValue = value;\n",
              "    return next.value.response;\n",
              "  });\n",
              "}\n",
              "\n",
              "/**\n",
              " * Generator function which is called between each async step of the upload\n",
              " * process.\n",
              " * @param {string} inputId Element ID of the input file picker element.\n",
              " * @param {string} outputId Element ID of the output display.\n",
              " * @return {!Iterable<!Object>} Iterable of next steps.\n",
              " */\n",
              "function* uploadFilesStep(inputId, outputId) {\n",
              "  const inputElement = document.getElementById(inputId);\n",
              "  inputElement.disabled = false;\n",
              "\n",
              "  const outputElement = document.getElementById(outputId);\n",
              "  outputElement.innerHTML = '';\n",
              "\n",
              "  const pickedPromise = new Promise((resolve) => {\n",
              "    inputElement.addEventListener('change', (e) => {\n",
              "      resolve(e.target.files);\n",
              "    });\n",
              "  });\n",
              "\n",
              "  const cancel = document.createElement('button');\n",
              "  inputElement.parentElement.appendChild(cancel);\n",
              "  cancel.textContent = 'Cancel upload';\n",
              "  const cancelPromise = new Promise((resolve) => {\n",
              "    cancel.onclick = () => {\n",
              "      resolve(null);\n",
              "    };\n",
              "  });\n",
              "\n",
              "  // Wait for the user to pick the files.\n",
              "  const files = yield {\n",
              "    promise: Promise.race([pickedPromise, cancelPromise]),\n",
              "    response: {\n",
              "      action: 'starting',\n",
              "    }\n",
              "  };\n",
              "\n",
              "  cancel.remove();\n",
              "\n",
              "  // Disable the input element since further picks are not allowed.\n",
              "  inputElement.disabled = true;\n",
              "\n",
              "  if (!files) {\n",
              "    return {\n",
              "      response: {\n",
              "        action: 'complete',\n",
              "      }\n",
              "    };\n",
              "  }\n",
              "\n",
              "  for (const file of files) {\n",
              "    const li = document.createElement('li');\n",
              "    li.append(span(file.name, {fontWeight: 'bold'}));\n",
              "    li.append(span(\n",
              "        `(${file.type || 'n/a'}) - ${file.size} bytes, ` +\n",
              "        `last modified: ${\n",
              "            file.lastModifiedDate ? file.lastModifiedDate.toLocaleDateString() :\n",
              "                                    'n/a'} - `));\n",
              "    const percent = span('0% done');\n",
              "    li.appendChild(percent);\n",
              "\n",
              "    outputElement.appendChild(li);\n",
              "\n",
              "    const fileDataPromise = new Promise((resolve) => {\n",
              "      const reader = new FileReader();\n",
              "      reader.onload = (e) => {\n",
              "        resolve(e.target.result);\n",
              "      };\n",
              "      reader.readAsArrayBuffer(file);\n",
              "    });\n",
              "    // Wait for the data to be ready.\n",
              "    let fileData = yield {\n",
              "      promise: fileDataPromise,\n",
              "      response: {\n",
              "        action: 'continue',\n",
              "      }\n",
              "    };\n",
              "\n",
              "    // Use a chunked sending to avoid message size limits. See b/62115660.\n",
              "    let position = 0;\n",
              "    do {\n",
              "      const length = Math.min(fileData.byteLength - position, MAX_PAYLOAD_SIZE);\n",
              "      const chunk = new Uint8Array(fileData, position, length);\n",
              "      position += length;\n",
              "\n",
              "      const base64 = btoa(String.fromCharCode.apply(null, chunk));\n",
              "      yield {\n",
              "        response: {\n",
              "          action: 'append',\n",
              "          file: file.name,\n",
              "          data: base64,\n",
              "        },\n",
              "      };\n",
              "\n",
              "      let percentDone = fileData.byteLength === 0 ?\n",
              "          100 :\n",
              "          Math.round((position / fileData.byteLength) * 100);\n",
              "      percent.textContent = `${percentDone}% done`;\n",
              "\n",
              "    } while (position < fileData.byteLength);\n",
              "  }\n",
              "\n",
              "  // All done.\n",
              "  yield {\n",
              "    response: {\n",
              "      action: 'complete',\n",
              "    }\n",
              "  };\n",
              "}\n",
              "\n",
              "scope.google = scope.google || {};\n",
              "scope.google.colab = scope.google.colab || {};\n",
              "scope.google.colab._files = {\n",
              "  _uploadFiles,\n",
              "  _uploadFilesContinue,\n",
              "};\n",
              "})(self);\n",
              "</script> "
            ]
          },
          "metadata": {}
        },
        {
          "output_type": "stream",
          "name": "stdout",
          "text": [
            "Saving eduNscore.csv to eduNscore.csv\n",
            "Saving genderNedu.csv to genderNedu.csv\n",
            "Saving incomeNedu.csv to incomeNedu.csv\n",
            "Saving regionNedu.csv to regionNedu.csv\n"
          ]
        }
      ]
    },
    {
      "cell_type": "code",
      "source": [
        "import csv\n",
        "\n",
        "f = open('eduNscore.csv', encoding='cp949')\n",
        "eduNscore= csv.reader(f)\n",
        "next(eduNscore)\n",
        "next(eduNscore)\n",
        "next(eduNscore)\n",
        "eduNscore=list(eduNscore)\n",
        "print(eduNscore)\n",
        "\n",
        "f = open('genderNedu.csv', encoding='cp949')\n",
        "genderNedu=   csv.reader(f)\n",
        "next(genderNedu)\n",
        "next(genderNedu)\n",
        "next(genderNedu)\n",
        "genderNedu=list(genderNedu)\n",
        "print(genderNedu)\n",
        "\n",
        "f = open('incomeNedu.csv', encoding='cp949')\n",
        "incomeNedu= csv.reader(f)\n",
        "next(incomeNedu)\n",
        "incomeNedu=list(incomeNedu)\n",
        "print(incomeNedu)\n",
        "\n",
        "f = open('regionNedu.csv', encoding='cp949')\n",
        "regionNedu= csv.reader(f)\n",
        "next(regionNedu)\n",
        "regionNedu=list(regionNedu)\n",
        "print(regionNedu)"
      ],
      "metadata": {
        "colab": {
          "base_uri": "https://localhost:8080/"
        },
        "id": "N4J6VsVO3z2w",
        "outputId": "ac61c15f-8c03-41d4-a6ea-c02921c149b0"
      },
      "execution_count": 37,
      "outputs": [
        {
          "output_type": "stream",
          "name": "stdout",
          "text": [
            "[['사교육 참여', '66.0', '77.5', '73.6', '67.5', '61.4', '54.0'], ['과목: 일반교과 사교육', '55.4', '72.6', '67.9', '59.2', '48.3', '34.3'], ['국  어', '25.8', '38.0', '34.7', '26.6', '20.6', '13.9'], ['영  어', '42.1', '55.9', '52.9', '46.2', '35.3', '23.8'], ['수  학', '46.7', '65.7', '59.1', '50.1', '38.7', '26.3'], ['사회, 과학', '14.3', '21.4', '18.4', '15.2', '11.6', '7.3'], ['논  술', '1.9', '1.5', '2.4', '2.1', '2.1', '1.2'], ['제2외국어, 한문, 컴퓨터 등', '1.7', '1.3', '1.6', '1.8', '1.5', '2.2'], ['컴퓨터', '0.8', '0.7', '0.6', '0.8', '0.6', '1.1'], ['제2외국어, 한문', '1.0', '0.6', '1.0', '1.1', '0.8', '1.1'], ['과목: 예체능,취미,교양 사교육', '16.0', '8.5', '10.8', '13.9', '19.9', '24.8'], ['음  악', '3.9', '2.4', '3.1', '3.2', '4.6', '6.1'], ['미  술', '4.1', '1.8', '2.9', '3.8', '5.8', '5.3'], ['체  육', '5.8', '3.3', '3.5', '5.0', '6.7', '9.8'], ['취미·교양', '3.0', '1.4', '1.7', '2.5', '3.7', '5.3'], ['과목: 취업관련 사교육', '1.9', '1.5', '1.4', '1.7', '1.9', '3.2'], ['과목: 진로·진학 학습상담', '4.0', '7.5', '5.7', '3.2', '2.9', '2.5'], ['유형: 일반교과 사교육', '55.4', '72.6', '67.9', '59.2', '48.3', '34.3'], ['개인과외', '13.1', '16.0', '15.6', '13.2', '12.4', '9.3'], ['그룹과외', '5.6', '7.5', '6.6', '6.3', '4.7', '3.3'], ['학원수강', '44.3', '61.4', '56.1', '47.7', '37.3', '24.4'], ['방문학습지', '0.5', '0.6', '0.4', '0.5', '0.4', '0.6'], ['유료인터넷 및 통신강좌 등', '9.8', '14.2', '12.3', '10.1', '8.4', '5.7'], ['유형: 예체능,취미,교양 사교육', '16.0', '8.5', '10.8', '13.9', '19.9', '24.8'], ['개인과외', '3.3', '2.2', '2.7', '2.6', '3.6', '5.2'], ['그룹과외', '1.1', '0.8', '0.8', '0.8', '1.2', '1.9'], ['학원수강', '11.0', '5.1', '7.0', '9.8', '14.4', '16.8'], ['방문수업 및 기타', '1.4', '0.8', '0.8', '1.1', '1.6', '2.6']]\n",
            "[['사교육 참여', '78.3', '76.9', '79.8'], ['과목: 일반교과 사교육', '63.2', '61.7', '64.8'], ['국  어', '24.9', '24.7', '25.1'], ['영  어', '52.1', '50.8', '53.5'], ['수  학', '52.7', '51.9', '53.5'], ['사회, 과학', '14.0', '14.2', '13.9'], ['논  술', '10.6', '10.4', '10.7'], ['제2외국어, 한문, 컴퓨터 등', '6.2', '6.6', '5.7'], ['컴퓨터', '2.4', '2.9', '1.8'], ['제2외국어, 한문 등', '4.3', '4.2', '4.3'], ['과목: 예체능,취미,교양 사교육', '45.3', '45.3', '45.3'], ['음  악', '18.8', '14.0', '23.9'], ['미  술', '10.8', '7.1', '14.7'], ['체  육', '28.3', '35.3', '20.7'], ['취미·교양', '4.6', '3.9', '5.4'], ['과목: 취업관련 사교육', '0.5', '0.4', '0.5'], ['과목: 진로·진학 학습상담', '2.3', '2.2', '2.3'], ['유형: 일반교과 사교육', '63.2', '61.7', '64.8'], ['개인과외', '9.9', '9.3', '10.5'], ['그룹과외', '8.4', '8.2', '8.6'], ['학원수강', '47.8', '46.6', '49.1'], ['방문학습지', '10.8', '10.8', '10.7'], ['유료인터넷 및 통신강좌 등', '11.3', '10.5', '12.1'], ['유형: 예체능,취미,교양 사교육', '45.3', '45.3', '45.3'], ['개인과외', '5.0', '4.7', '5.3'], ['그룹과외', '3.5', '3.9', '3.1'], ['학원수강', '37.8', '37.4', '38.3'], ['방문수업 및 기타', '4.1', '4.3', '3.9']]\n",
            "[['과목 및 유형', '평  균 (만원)', '300만원 미만 (만원)', '- 200만원 미만 (만원)', '- 200 ~300만원 미만 (만원)', '300 ~400만원 미만 (만원)', '400 ~500만원 미만 (만원)', '500 ~600만원 미만 (만원)', '600 ~700만원 미만 (만원)', '- 700 ~ 800만원 미만 (만원)', '- 800만원 이상 (만원)'], ['대상분포(%)', '100.0', '13.4', '4.6', '8.8', '13.9', '16.9', '16.8', '10.9', '8.7', '19.4'], ['사교육비', '41.0', '17.8', '12.4', '20.5', '27.2', '35.1', '39.9', '46.9', '51.8', '64.8'], ['과목: 일반교과 사교육', '31.0', '12.4', '8.0', '14.6', '19.6', '25.9', '30.0', '35.6', '39.9', '50.4'], ['국  어', '3.4', '1.5', '1.0', '1.8', '2.2', '2.8', '3.1', '3.6', '4.3', '5.9'], ['영  어', '12.3', '4.7', '2.8', '5.7', '8.0', '10.6', '12.4', '14.7', '16.0', '19.1'], ['수  학', '11.6', '5.1', '3.5', '5.9', '7.6', '9.8', '11.2', '13.3', '14.6', '18.5'], ['사회, 과학', '1.8', '0.6', '0.4', '0.7', '0.8', '1.3', '1.5', '1.9', '2.4', '3.6'], ['논  술', '1.3', '0.3', '0.1', '0.3', '0.7', '1.0', '1.3', '1.5', '1.9', '2.3'], ['제2외국어, 한문, 컴퓨터 등', '0.6', '0.3', '0.2', '0.3', '0.3', '0.4', '0.5', '0.6', '0.7', '1.0'], ['컴퓨터', '0.2', '0.1', '0.1', '0.1', '0.1', '0.2', '0.2', '0.2', '0.2', '0.5'], ['제2외국어, 한문 등', '0.3', '0.2', '0.1', '0.2', '0.2', '0.3', '0.3', '0.3', '0.5', '0.5'], ['과목: 예체능,취미,교양 사교육', '9.8', '5.2', '4.2', '5.7', '7.4', '8.9', '9.7', '11.0', '11.6', '14.0'], ['음  악', '3.0', '1.3', '0.8', '1.5', '2.1', '2.8', '3.1', '3.5', '3.6', '4.4'], ['미  술', '1.7', '0.8', '0.6', '0.9', '1.2', '1.5', '1.7', '2.0', '2.2', '2.5'], ['체  육', '4.3', '2.5', '2.2', '2.6', '3.3', '3.9', '4.2', '4.7', '5.0', '6.0'], ['취미·교양', '0.8', '0.6', '0.6', '0.6', '0.7', '0.8', '0.7', '0.8', '0.7', '1.1'], ['과목: 취업관련 사교육', '0.1', '0.1', '0.2', '0.1', '0.1', '0.1', '0.1', '0.1', '0.1', '0.1'], ['과목: 진로·진학 학습상담', '0.1', '0.1', '0.1', '0.1', '0.1', '0.1', '0.1', '0.2', '0.2', '0.3'], ['유형: 일반교과 사교육', '31.0', '12.4', '8.0', '14.6', '19.6', '25.9', '30.0', '35.6', '39.9', '50.4'], ['개인과외', '3.9', '1.1', '0.8', '1.2', '1.8', '2.6', '3.3', '4.2', '5.3', '8.1'], ['그룹과외', '2.3', '0.8', '0.5', '1.0', '1.5', '2.1', '2.3', '3.0', '3.0', '3.4'], ['학원수강', '22.1', '8.6', '5.5', '10.3', '13.8', '18.4', '21.6', '25.5', '28.7', '35.9'], ['방문학습지', '1.1', '0.8', '0.6', '0.9', '1.1', '1.1', '1.1', '1.2', '1.3', '1.3'], ['유료인터넷 및 통신강좌 등', '1.5', '1.0', '0.7', '1.1', '1.4', '1.7', '1.6', '1.7', '1.6', '1.6'], ['유형: 예체능,취미,교양 사교육', '9.8', '5.2', '4.2', '5.7', '7.4', '8.9', '9.7', '11.0', '11.6', '14.0'], ['개인과외', '1.3', '0.3', '0.3', '0.4', '0.6', '0.9', '1.0', '1.4', '1.6', '2.8'], ['그룹과외', '0.6', '0.3', '0.3', '0.3', '0.4', '0.4', '0.5', '0.5', '0.7', '1.0'], ['학원수강', '7.6', '4.2', '3.3', '4.6', '6.1', '7.3', '7.9', '8.8', '9.1', '9.9'], ['방문수업 및 기타', '0.3', '0.4', '0.4', '0.4', '0.3', '0.3', '0.3', '0.3', '0.3', '0.3']]\n",
            "[['과목 및 유형', '평  균 (만원)', '대도시 (만원)', '서  울 (만원)', '광역시 (만원)', '대도시이외 (만원)', '중소도시 (만원)', '읍면지역 (만원)'], ['대상분포(%)', '100.0', '38.7', '15.3', '23.4', '61.3', '44.8', '16.5'], ['사교육비', '41.0', '47.5', '59.6', '39.5', '36.9', '40.1', '28.2'], ['과목: 일반교과 사교육', '31.0', '36.4', '45.6', '30.4', '27.5', '30.2', '20.3'], ['국  어', '3.4', '4.1', '5.3', '3.4', '3.0', '3.2', '2.2'], ['영  어', '12.3', '14.2', '17.4', '12.1', '11.1', '12.2', '8.2'], ['수  학', '11.6', '13.6', '16.9', '11.4', '10.3', '11.2', '7.7'], ['사회, 과학', '1.8', '2.3', '3.1', '1.8', '1.5', '1.6', '1.1'], ['논  술', '1.3', '1.5', '2.0', '1.2', '1.2', '1.3', '0.7'], ['제2외국어, 한문, 컴퓨터 등', '0.6', '0.7', '0.9', '0.5', '0.5', '0.5', '0.4'], ['컴퓨터', '0.2', '0.3', '0.4', '0.2', '0.2', '0.2', '0.1'], ['제2외국어, 한문 등', '0.3', '0.4', '0.5', '0.3', '0.3', '0.3', '0.3'], ['과목: 예체능,취미,교양 사교육', '9.8', '10.8', '13.6', '8.9', '9.2', '9.7', '7.7'], ['음  악', '3.0', '3.3', '4.3', '2.7', '2.8', '2.9', '2.5'], ['미  술', '1.7', '1.9', '2.4', '1.6', '1.6', '1.7', '1.2'], ['체  육', '4.3', '4.6', '5.7', '3.9', '4.0', '4.3', '3.4'], ['취미·교양', '0.8', '0.9', '1.2', '0.7', '0.7', '0.8', '0.6'], ['과목: 취업관련 사교육', '0.1', '0.1', '0.2', '0.1', '0.1', '0.1', '0.1'], ['과목: 진로·진학 학습상담', '0.1', '0.1', '0.2', '0.1', '0.1', '0.2', '0.1'], ['유형: 일반교과 사교육', '31.0', '36.4', '45.6', '30.4', '27.5', '30.2', '20.3'], ['개인과외', '3.9', '4.7', '6.0', '3.8', '3.4', '3.7', '2.5'], ['그룹과외', '2.3', '2.2', '2.3', '2.1', '2.4', '2.5', '2.2'], ['학원수강', '22.1', '26.9', '34.4', '21.9', '19.1', '21.3', '13.1'], ['방문학습지', '1.1', '1.2', '1.2', '1.1', '1.1', '1.2', '1.0'], ['유료인터넷 및 통신강좌 등', '1.5', '1.5', '1.6', '1.5', '1.5', '1.5', '1.5'], ['유형: 예체능,취미,교양 사교육', '9.8', '10.8', '13.6', '8.9', '9.2', '9.7', '7.7'], ['개인과외', '1.3', '1.6', '2.7', '1.0', '1.0', '1.1', '0.9'], ['그룹과외', '0.6', '0.7', '1.0', '0.5', '0.5', '0.5', '0.4'], ['학원수강', '7.6', '8.1', '9.5', '7.2', '7.3', '7.8', '6.1'], ['방문수업 및 기타', '0.3', '0.4', '0.5', '0.3', '0.3', '0.3', '0.3']]\n"
          ]
        }
      ]
    },
    {
      "cell_type": "markdown",
      "source": [
        "# 1. 학생 성별&사교육비"
      ],
      "metadata": {
        "id": "mtvvpL8fBkpX"
      }
    },
    {
      "cell_type": "code",
      "source": [
        "subject=[0]*28\n",
        "subject = [str(i) for i in subject]\n",
        "male=[0]*28\n",
        "female=[0]*28\n",
        "i=0\n",
        "for row in genderNedu:\n",
        "  subject[i]=row[0]\n",
        "  male[i]=float(row[2])\n",
        "  female[i]=float(row[3])\n",
        "  i+=1"
      ],
      "metadata": {
        "colab": {
          "base_uri": "https://localhost:8080/"
        },
        "id": "SmT9ayNDIxhf",
        "outputId": "1d383120-65f9-4240-b9ec-93d53f267b4d"
      },
      "execution_count": 86,
      "outputs": [
        {
          "output_type": "stream",
          "name": "stdout",
          "text": [
            "[76.9, 61.7, 24.7, 50.8, 51.9, 14.2, 10.4, 6.6, 2.9, 4.2, 45.3, 14.0, 7.1, 35.3, 3.9, 0.4, 2.2, 61.7, 9.3, 8.2, 46.6, 10.8, 10.5, 45.3, 4.7, 3.9, 37.4, 4.3]\n"
          ]
        }
      ]
    },
    {
      "cell_type": "code",
      "source": [
        "import matplotlib.pyplot as plt\n",
        "import numpy as np\n",
        "\n",
        "X_axis = np.arange(len(subject))\n",
        "\n",
        "plt.rc('font', family='NanumGothic')\n",
        "plt.bar(X_axis - 0.2, male, 0.4, label = 'male')\n",
        "plt.bar(subject,female, 0.4, label = 'female')\n",
        "plt.xticks(X_axis, subject,rotation=90)\n",
        "plt.legend()\n",
        "plt.show()"
      ],
      "metadata": {
        "colab": {
          "base_uri": "https://localhost:8080/",
          "height": 610
        },
        "id": "HLpoHQPi8hCF",
        "outputId": "4a4624ad-36ed-418a-99c0-d79be9c84ebb"
      },
      "execution_count": 88,
      "outputs": [
        {
          "output_type": "display_data",
          "data": {
            "text/plain": [
              "<Figure size 640x480 with 1 Axes>"
            ],
            "image/png": "[encoded data removed]"
          },
          "metadata": {}
        },
        {
          "output_type": "stream",
          "name": "stdout",
          "text": [
            "[79.8, 64.8, 25.1, 53.5, 53.5, 13.9, 10.7, 5.7, 1.8, 4.3, 45.3, 23.9, 14.7, 20.7, 5.4, 0.5, 2.3, 64.8, 10.5, 8.6, 49.1, 10.7, 12.1, 45.3, 5.3, 3.1, 38.3, 3.9]\n"
          ]
        }
      ]
    },
    {
      "cell_type": "markdown",
      "source": [
        "# 지역 & 사교육비"
      ],
      "metadata": {
        "id": "-ibwuLorJa2e"
      }
    },
    {
      "cell_type": "code",
      "source": [],
      "metadata": {
        "id": "esvOy_jeCL_u"
      },
      "execution_count": null,
      "outputs": []
    }
  ]
}